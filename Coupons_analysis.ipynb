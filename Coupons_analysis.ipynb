{
 "cells": [
  {
   "cell_type": "code",
   "execution_count": 11,
   "id": "850e3d70",
   "metadata": {},
   "outputs": [],
   "source": [
    "import pandas as pd\n",
    "import matplotlib.pyplot as plt\n",
    "import seaborn as sns\n"
   ]
  },
  {
   "cell_type": "code",
   "execution_count": 6,
   "id": "e72678dd",
   "metadata": {},
   "outputs": [],
   "source": [
    "# Define the file path\n",
    "file_path =r'C:\\Users\\sriva\\OneDrive\\Desktop\\coupons.csv' "
   ]
  },
  {
   "cell_type": "code",
   "execution_count": 7,
   "id": "13d7e108",
   "metadata": {},
   "outputs": [],
   "source": [
    "# Read the CSV file into a DataFrame\n",
    "df=pd.read_csv(file_path)"
   ]
  },
  {
   "cell_type": "code",
   "execution_count": 8,
   "id": "0fd809be",
   "metadata": {},
   "outputs": [
    {
     "name": "stdout",
     "output_type": "stream",
     "text": [
      "<class 'pandas.core.frame.DataFrame'>\n",
      "RangeIndex: 12684 entries, 0 to 12683\n",
      "Data columns (total 26 columns):\n",
      " #   Column                Non-Null Count  Dtype \n",
      "---  ------                --------------  ----- \n",
      " 0   destination           12684 non-null  object\n",
      " 1   passanger             12684 non-null  object\n",
      " 2   weather               12684 non-null  object\n",
      " 3   temperature           12684 non-null  int64 \n",
      " 4   time                  12684 non-null  object\n",
      " 5   coupon                12684 non-null  object\n",
      " 6   expiration            12684 non-null  object\n",
      " 7   gender                12684 non-null  object\n",
      " 8   age                   12684 non-null  object\n",
      " 9   maritalStatus         12684 non-null  object\n",
      " 10  has_children          12684 non-null  int64 \n",
      " 11  education             12684 non-null  object\n",
      " 12  occupation            12684 non-null  object\n",
      " 13  income                12684 non-null  object\n",
      " 14  car                   108 non-null    object\n",
      " 15  Bar                   12577 non-null  object\n",
      " 16  CoffeeHouse           12467 non-null  object\n",
      " 17  CarryAway             12533 non-null  object\n",
      " 18  RestaurantLessThan20  12554 non-null  object\n",
      " 19  Restaurant20To50      12495 non-null  object\n",
      " 20  toCoupon_GEQ5min      12684 non-null  int64 \n",
      " 21  toCoupon_GEQ15min     12684 non-null  int64 \n",
      " 22  toCoupon_GEQ25min     12684 non-null  int64 \n",
      " 23  direction_same        12684 non-null  int64 \n",
      " 24  direction_opp         12684 non-null  int64 \n",
      " 25  Y                     12684 non-null  int64 \n",
      "dtypes: int64(8), object(18)\n",
      "memory usage: 2.5+ MB\n",
      "None\n"
     ]
    }
   ],
   "source": [
    "# Print a summary of the DataFrame\n",
    "print(df.info())"
   ]
  },
  {
   "cell_type": "code",
   "execution_count": 9,
   "id": "02b3ab60",
   "metadata": {},
   "outputs": [
    {
     "name": "stdout",
     "output_type": "stream",
     "text": [
      "        temperature  has_children  toCoupon_GEQ5min  toCoupon_GEQ15min  \\\n",
      "count  12684.000000  12684.000000           12684.0       12684.000000   \n",
      "mean      63.301798      0.414144               1.0           0.561495   \n",
      "std       19.154486      0.492593               0.0           0.496224   \n",
      "min       30.000000      0.000000               1.0           0.000000   \n",
      "25%       55.000000      0.000000               1.0           0.000000   \n",
      "50%       80.000000      0.000000               1.0           1.000000   \n",
      "75%       80.000000      1.000000               1.0           1.000000   \n",
      "max       80.000000      1.000000               1.0           1.000000   \n",
      "\n",
      "       toCoupon_GEQ25min  direction_same  direction_opp             Y  \n",
      "count       12684.000000    12684.000000   12684.000000  12684.000000  \n",
      "mean            0.119126        0.214759       0.785241      0.568433  \n",
      "std             0.323950        0.410671       0.410671      0.495314  \n",
      "min             0.000000        0.000000       0.000000      0.000000  \n",
      "25%             0.000000        0.000000       1.000000      0.000000  \n",
      "50%             0.000000        0.000000       1.000000      1.000000  \n",
      "75%             0.000000        0.000000       1.000000      1.000000  \n",
      "max             1.000000        1.000000       1.000000      1.000000  \n"
     ]
    }
   ],
   "source": [
    "# Print a summary statistics of the DataFrame\n",
    "print(df.describe())"
   ]
  },
  {
   "cell_type": "code",
   "execution_count": 12,
   "id": "868b3d5d",
   "metadata": {},
   "outputs": [],
   "source": [
    "#print(df.head(20))"
   ]
  },
  {
   "cell_type": "code",
   "execution_count": 13,
   "id": "230da3c1",
   "metadata": {},
   "outputs": [
    {
     "name": "stdout",
     "output_type": "stream",
     "text": [
      "Summary Statistics:\n",
      "        temperature  has_children  toCoupon_GEQ5min  toCoupon_GEQ15min  \\\n",
      "count  12684.000000  12684.000000           12684.0       12684.000000   \n",
      "mean      63.301798      0.414144               1.0           0.561495   \n",
      "std       19.154486      0.492593               0.0           0.496224   \n",
      "min       30.000000      0.000000               1.0           0.000000   \n",
      "25%       55.000000      0.000000               1.0           0.000000   \n",
      "50%       80.000000      0.000000               1.0           1.000000   \n",
      "75%       80.000000      1.000000               1.0           1.000000   \n",
      "max       80.000000      1.000000               1.0           1.000000   \n",
      "\n",
      "       toCoupon_GEQ25min  direction_same  direction_opp             Y  \n",
      "count       12684.000000    12684.000000   12684.000000  12684.000000  \n",
      "mean            0.119126        0.214759       0.785241      0.568433  \n",
      "std             0.323950        0.410671       0.410671      0.495314  \n",
      "min             0.000000        0.000000       0.000000      0.000000  \n",
      "25%             0.000000        0.000000       1.000000      0.000000  \n",
      "50%             0.000000        0.000000       1.000000      1.000000  \n",
      "75%             0.000000        0.000000       1.000000      1.000000  \n",
      "max             1.000000        1.000000       1.000000      1.000000  \n",
      "\n",
      "Data Types:\n",
      "destination             object\n",
      "passanger               object\n",
      "weather                 object\n",
      "temperature              int64\n",
      "time                    object\n",
      "coupon                  object\n",
      "expiration              object\n",
      "gender                  object\n",
      "age                     object\n",
      "maritalStatus           object\n",
      "has_children             int64\n",
      "education               object\n",
      "occupation              object\n",
      "income                  object\n",
      "car                     object\n",
      "Bar                     object\n",
      "CoffeeHouse             object\n",
      "CarryAway               object\n",
      "RestaurantLessThan20    object\n",
      "Restaurant20To50        object\n",
      "toCoupon_GEQ5min         int64\n",
      "toCoupon_GEQ15min        int64\n",
      "toCoupon_GEQ25min        int64\n",
      "direction_same           int64\n",
      "direction_opp            int64\n",
      "Y                        int64\n",
      "dtype: object\n",
      "\n",
      "Missing Values:\n",
      "destination                 0\n",
      "passanger                   0\n",
      "weather                     0\n",
      "temperature                 0\n",
      "time                        0\n",
      "coupon                      0\n",
      "expiration                  0\n",
      "gender                      0\n",
      "age                         0\n",
      "maritalStatus               0\n",
      "has_children                0\n",
      "education                   0\n",
      "occupation                  0\n",
      "income                      0\n",
      "car                     12576\n",
      "Bar                       107\n",
      "CoffeeHouse               217\n",
      "CarryAway                 151\n",
      "RestaurantLessThan20      130\n",
      "Restaurant20To50          189\n",
      "toCoupon_GEQ5min            0\n",
      "toCoupon_GEQ15min           0\n",
      "toCoupon_GEQ25min           0\n",
      "direction_same              0\n",
      "direction_opp               0\n",
      "Y                           0\n",
      "dtype: int64\n"
     ]
    }
   ],
   "source": [
    "# Data Exploration\n",
    "print(\"Summary Statistics:\")\n",
    "print(df.describe())  # Statistical summary of numerical columns\n",
    "print(\"\\nData Types:\")\n",
    "print(df.dtypes)  # Data types of each column\n",
    "print(\"\\nMissing Values:\")\n",
    "print(df.isnull().sum())  # Count missing values in each column"
   ]
  },
  {
   "cell_type": "code",
   "execution_count": 15,
   "id": "d22466aa",
   "metadata": {},
   "outputs": [
    {
     "data": {
      "image/png": "[encoded data removed]",
      "text/plain": [
       "<Figure size 1000x600 with 1 Axes>"
      ]
     },
     "metadata": {},
     "output_type": "display_data"
    }
   ],
   "source": [
    "# Visualization\n",
    "# Example 1: Bar plot of acceptance rates by destination\n",
    "plt.figure(figsize=(10, 6))\n",
    "sns.barplot(x='destination', y='Y', data=df)\n",
    "plt.title('Acceptance Rates by Destination')\n",
    "plt.xlabel('Destination')\n",
    "plt.ylabel('Acceptance Rate')\n",
    "plt.show()"
   ]
  },
  {
   "cell_type": "code",
   "execution_count": 16,
   "id": "94c1f9dd",
   "metadata": {},
   "outputs": [
    {
     "data": {
      "image/png": "[encoded data removed]",
      "text/plain": [
       "<Figure size 1000x600 with 1 Axes>"
      ]
     },
     "metadata": {},
     "output_type": "display_data"
    }
   ],
   "source": [
    "# Example 2: Box plot of acceptance rates by weather condition\n",
    "plt.figure(figsize=(10, 6))\n",
    "sns.boxplot(x='weather', y='Y', data=df)\n",
    "plt.title('Acceptance Rates by Weather Condition')\n",
    "plt.xlabel('Weather')\n",
    "plt.ylabel('Acceptance Rate')\n",
    "plt.show()\n"
   ]
  },
  {
   "cell_type": "code",
   "execution_count": 18,
   "id": "a0a516d0",
   "metadata": {},
   "outputs": [
    {
     "name": "stderr",
     "output_type": "stream",
     "text": [
      "C:\\Users\\sriva\\anaconda3\\Lib\\site-packages\\seaborn\\axisgrid.py:118: UserWarning: The figure layout has changed to tight\n",
      "  self._figure.tight_layout(*args, **kwargs)\n"
     ]
    },
    {
     "data": {
      "image/png": "[encoded data removed]",
      "text/plain": [
       "<Figure size 250x250 with 2 Axes>"
      ]
     },
     "metadata": {},
     "output_type": "display_data"
    }
   ],
   "source": [
    "# Example 3: Pairplot for exploring relationships between numerical variables\n",
    "sns.pairplot(df[['destination', 'time', 'weather', 'passanger', 'Y']])\n",
    "plt.show()"
   ]
  },
  {
   "cell_type": "code",
   "execution_count": 19,
   "id": "3b4ac713",
   "metadata": {},
   "outputs": [
    {
     "name": "stdout",
     "output_type": "stream",
     "text": [
      "Overall Acceptance Rate: 0.5684326710816777\n"
     ]
    }
   ],
   "source": [
    "# Calculate overall acceptance rate\n",
    "total_responses = len(df)  # Total number of responses\n",
    "accepted_responses = df['Y'].sum()  # Number of responses where Y=1 (accepted)\n",
    "overall_acceptance_rate = accepted_responses / total_responses\n",
    "\n",
    "print(\"Overall Acceptance Rate:\", overall_acceptance_rate)"
   ]
  },
  {
   "cell_type": "code",
   "execution_count": 21,
   "id": "1ee4c7a2",
   "metadata": {},
   "outputs": [
    {
     "name": "stdout",
     "output_type": "stream",
     "text": [
      "Acceptance Rates by Destination:\n",
      "destination\n",
      "No Urgent Place    0.633774\n",
      "Home               0.506333\n",
      "Work               0.502212\n",
      "Name: Y, dtype: float64\n"
     ]
    }
   ],
   "source": [
    "# Calculate acceptance rates by destination\n",
    "acceptance_by_destination = df.groupby('destination')['Y'].mean().sort_values(ascending=False)\n",
    "\n",
    "print(\"Acceptance Rates by Destination:\")\n",
    "print(acceptance_by_destination)"
   ]
  },
  {
   "cell_type": "code",
   "execution_count": 22,
   "id": "fecb6cf1",
   "metadata": {},
   "outputs": [
    {
     "name": "stdout",
     "output_type": "stream",
     "text": [
      "Acceptance Rates by Time of Day:\n",
      "time\n",
      "10AM    0.608352\n",
      "10PM    0.508475\n",
      "2PM     0.661523\n",
      "6PM     0.584520\n",
      "7AM     0.502212\n",
      "Name: Y, dtype: float64\n",
      "\n",
      "Acceptance Rates by Weather Condition:\n",
      "weather\n",
      "Rainy    0.462810\n",
      "Snowy    0.470463\n",
      "Sunny    0.594796\n",
      "Name: Y, dtype: float64\n"
     ]
    }
   ],
   "source": [
    "# Calculate acceptance rates by time of day\n",
    "acceptance_by_time = df.groupby('time')['Y'].mean()\n",
    "\n",
    "# Calculate acceptance rates by weather condition\n",
    "acceptance_by_weather = df.groupby('weather')['Y'].mean()\n",
    "\n",
    "print(\"Acceptance Rates by Time of Day:\")\n",
    "print(acceptance_by_time)\n",
    "print(\"\\nAcceptance Rates by Weather Condition:\")\n",
    "print(acceptance_by_weather)"
   ]
  },
  {
   "cell_type": "code",
   "execution_count": 24,
   "id": "adfd0183",
   "metadata": {},
   "outputs": [
    {
     "name": "stdout",
     "output_type": "stream",
     "text": [
      "Acceptance Rates by Passanger Presence:\n",
      "passanger\n",
      "Alone        0.525804\n",
      "Friend(s)    0.673438\n",
      "Kid(s)       0.504970\n",
      "Partner      0.595349\n",
      "Name: Y, dtype: float64\n"
     ]
    }
   ],
   "source": [
    "# Calculate acceptance rates by passenger presence\n",
    "acceptance_by_passenger = df.groupby('passanger')['Y'].mean()\n",
    "\n",
    "print(\"Acceptance Rates by Passanger Presence:\")\n",
    "print(acceptance_by_passenger)"
   ]
  },
  {
   "cell_type": "code",
   "execution_count": 26,
   "id": "217c80db",
   "metadata": {},
   "outputs": [
    {
     "name": "stdout",
     "output_type": "stream",
     "text": [
      "Summary Statistics of Accepted Customers:\n",
      "       temperature  has_children  toCoupon_GEQ5min  toCoupon_GEQ15min  \\\n",
      "count  7210.000000   7210.000000            7210.0        7210.000000   \n",
      "mean     64.323856      0.394591               1.0           0.526214   \n",
      "std      18.959363      0.488797               0.0           0.499347   \n",
      "min      30.000000      0.000000               1.0           0.000000   \n",
      "25%      55.000000      0.000000               1.0           0.000000   \n",
      "50%      80.000000      0.000000               1.0           1.000000   \n",
      "75%      80.000000      1.000000               1.0           1.000000   \n",
      "max      80.000000      1.000000               1.0           1.000000   \n",
      "\n",
      "       toCoupon_GEQ25min  direction_same  direction_opp       Y  \n",
      "count        7210.000000     7210.000000    7210.000000  7210.0  \n",
      "mean            0.089875        0.219972       0.780028     1.0  \n",
      "std             0.286023        0.414256       0.414256     0.0  \n",
      "min             0.000000        0.000000       0.000000     1.0  \n",
      "25%             0.000000        0.000000       1.000000     1.0  \n",
      "50%             0.000000        0.000000       1.000000     1.0  \n",
      "75%             0.000000        0.000000       1.000000     1.0  \n",
      "max             1.000000        1.000000       1.000000     1.0  \n",
      "\n",
      "Top Destinations for Accepted Customers:\n",
      "destination\n",
      "No Urgent Place    3982\n",
      "Home               1639\n",
      "Work               1589\n",
      "Name: count, dtype: int64\n"
     ]
    }
   ],
   "source": [
    "# Filter the DataFrame to include only rows where Y=1 (coupon accepted)\n",
    "accepted_customers = df[df['Y'] == 1]\n",
    "\n",
    "# Analyze the relevant columns to identify characteristics or behaviors of accepted customers\n",
    "# describe() to get statistical summaries of numerical columns\n",
    "print(\"Summary Statistics of Accepted Customers:\")\n",
    "print(accepted_customers.describe())\n",
    "\n",
    "# Also analyze specific columns to identify patterns or trends\n",
    "# analyze the 'Destination' column to see which destinations are popular among accepted customers\n",
    "print(\"\\nTop Destinations for Accepted Customers:\")\n",
    "print(accepted_customers['destination'].value_counts())"
   ]
  },
  {
   "cell_type": "code",
   "execution_count": null,
   "id": "172f9617",
   "metadata": {},
   "outputs": [],
   "source": []
  }
 ],
 "metadata": {
  "kernelspec": {
   "display_name": "Python 3 (ipykernel)",
   "language": "python",
   "name": "python3"
  },
  "language_info": {
   "codemirror_mode": {
    "name": "ipython",
    "version": 3
   },
   "file_extension": ".py",
   "mimetype": "text/x-python",
   "name": "python",
   "nbconvert_exporter": "python",
   "pygments_lexer": "ipython3",
   "version": "3.11.5"
  }
 },
 "nbformat": 4,
 "nbformat_minor": 5
}
